{
 "cells": [
  {
   "cell_type": "code",
   "execution_count": 6,
   "id": "335ad6a9",
   "metadata": {},
   "outputs": [],
   "source": [
    "from azure.cognitiveservices.vision.customvision.training import CustomVisionTrainingClient\n",
    "from azure.cognitiveservices.vision.customvision.prediction import CustomVisionPredictionClient\n",
    "from azure.cognitiveservices.vision.customvision.training.models import ImageFileCreateBatch, ImageFileCreateEntry, Region\n",
    "from msrest.authentication import ApiKeyCredentials\n",
    "import os, time, uuid"
   ]
  },
  {
   "cell_type": "code",
   "execution_count": null,
   "id": "fd7fb989",
   "metadata": {},
   "outputs": [],
   "source": [
    "# # Replace with valid values\n",
    "# ENDPOINT = \"https://customvisionbirdcl-prediction.cognitiveservices.azure.com/\"\n",
    "# training_key = \"9256a1fc93684a298b0a43f0622a5b0d\"\n",
    "# prediction_key = \"11bee0ea30914578a647971a73cdd167\"\n",
    "# prediction_resource_id = \"PASTE_YOUR_CUSTOM_VISION_PREDICTION_RESOURCE_ID_HERE\""
   ]
  },
  {
   "cell_type": "code",
   "execution_count": 20,
   "id": "99be0993",
   "metadata": {},
   "outputs": [
    {
     "name": "stdout",
     "output_type": "stream",
     "text": [
      "\tCommon Grackle: 93.72%\n",
      "\tBlue Jay: 6.36%\n",
      "\tAmerican Crow: 4.71%\n",
      "\tAmerican Robin (Juvenile): 1.02%\n",
      "\tRed-tailed Hawk (Dark morph): 0.95%\n",
      "\tAmerican Robin (Adult): 0.62%\n",
      "\tHouse Sparrow (Female): 0.50%\n",
      "\tHouse Sparrow (Male): 0.37%\n",
      "\tMourning Dove: 0.33%\n",
      "\tAmerican Goldfinch (Male): 0.18%\n",
      "\tNorthern Cardinal (Female): 0.12%\n",
      "\tNorthern Cardinal (Adult Male): 0.11%\n",
      "\tRed-tailed Hawk (Light morph immature): 0.10%\n",
      "\tAmerican Goldfinch (Female): 0.08%\n",
      "\tHouse Wren: 0.06%\n",
      "\tTufted Titmouse: 0.03%\n"
     ]
    }
   ],
   "source": [
    "from azure.cognitiveservices.vision.customvision.prediction import CustomVisionPredictionClient\n",
    "\n",
    "# Create variables for your resource; replace variables with valid values.\n",
    "prediction_key = \"11bee0ea30914578a647971a73cdd167\"\n",
    "endpoint = \"https://customvisionbirdcl-prediction.cognitiveservices.azure.com/\"\n",
    "base_image_url = \"./\"\n",
    "\n",
    "# An example of a default iteration name is \"Iteration1\".\n",
    "publish_iteration_name = \"Iteration1\"\n",
    "\n",
    "# You can find the project ID in the settings of the Custom Vision project in the portal.\n",
    "projectId = \"d7dc0b54-e8ff-4cdf-a666-f4865c799a65\"\n",
    "\n",
    "# Now, you have a trained endpoint that you can use to make a prediction.\n",
    "prediction_credentials = ApiKeyCredentials(in_headers={\"Prediction-key\": prediction_key})\n",
    "\n",
    "predictor = CustomVisionPredictionClient(endpoint, prediction_credentials)\n",
    "\n",
    "with open(base_image_url + \"Test/test_image.jpg\", \"rb\") as image_contents:\n",
    "    results = predictor.classify_image(\n",
    "        projectId, publish_iteration_name, image_contents.read())\n",
    "\n",
    "# Display the results.\n",
    "for prediction in results.predictions:\n",
    "    print(\"\\t\" + prediction.tag_name +\n",
    "         \": {0:.2f}%\".format(prediction.probability * 100))"
   ]
  },
  {
   "cell_type": "code",
   "execution_count": null,
   "id": "a445fb1e",
   "metadata": {},
   "outputs": [],
   "source": []
  }
 ],
 "metadata": {
  "kernelspec": {
   "display_name": "Python 3",
   "language": "python",
   "name": "python3"
  },
  "language_info": {
   "codemirror_mode": {
    "name": "ipython",
    "version": 3
   },
   "file_extension": ".py",
   "mimetype": "text/x-python",
   "name": "python",
   "nbconvert_exporter": "python",
   "pygments_lexer": "ipython3",
   "version": "3.9.5"
  }
 },
 "nbformat": 4,
 "nbformat_minor": 5
}
